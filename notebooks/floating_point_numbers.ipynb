{
 "cells": [
  {
   "cell_type": "code",
   "execution_count": 2,
   "metadata": {},
   "outputs": [],
   "source": [
    "import numpy as np\n",
    "import sys"
   ]
  },
  {
   "cell_type": "code",
   "execution_count": 3,
   "metadata": {},
   "outputs": [
    {
     "name": "stdout",
     "output_type": "stream",
     "text": [
      "Python Version 3.11.3\n",
      "Numpy Version 1.26.2\n"
     ]
    }
   ],
   "source": [
    "print(\"Python Version {}\".format(sys.version.split(\" \")[0]))\n",
    "print(\"Numpy Version {}\".format(np.__version__))"
   ]
  },
  {
   "cell_type": "code",
   "execution_count": 5,
   "metadata": {},
   "outputs": [
    {
     "name": "stdout",
     "output_type": "stream",
     "text": [
      "01000011000000110011001100110011\n",
      "Sign  Exponent   Fraction               \n",
      "0     100001100  0000110011001100110011 \n"
     ]
    }
   ],
   "source": [
    "# intialize a 32-bit float\n",
    "x = np.float32(131.2)\n",
    "# convert to a binary string represntation w/ leading 0's\n",
    "x_bin = \"{:032b}\".format(x.view(np.uint32))\n",
    "\n",
    "print(x_bin)\n",
    "print(\"{:6}{:11}{:23}\\n{:6}{:11}{:23}\".format(\"Sign\", \"Exponent\", \"Fraction\", x_bin[0:1], x_bin[1:10], x_bin[10:]))"
   ]
  },
  {
   "cell_type": "code",
   "execution_count": 16,
   "metadata": {},
   "outputs": [
    {
     "name": "stdout",
     "output_type": "stream",
     "text": [
      "131.1999969482422\n"
     ]
    }
   ],
   "source": [
    "import struct\n",
    "\n",
    "print(struct.unpack(\"f\", struct.pack(\"I\", int(x_bin, 2)))[0])"
   ]
  },
  {
   "cell_type": "code",
   "execution_count": 14,
   "metadata": {},
   "outputs": [
    {
     "data": {
      "text/plain": [
       "1124283187"
      ]
     },
     "execution_count": 14,
     "metadata": {},
     "output_type": "execute_result"
    }
   ],
   "source": [
    "int(x_bin, 2)"
   ]
  },
  {
   "cell_type": "code",
   "execution_count": 17,
   "metadata": {},
   "outputs": [
    {
     "name": "stdout",
     "output_type": "stream",
     "text": [
      "Original float: 3.141592653589793\n",
      "Binary representation: 01000000010010010000111111011011\n",
      "Converted float: 3.1415927410125732\n"
     ]
    }
   ],
   "source": [
    "import numpy as np\n",
    "\n",
    "def float_to_binary32(value):\n",
    "    # Convert the float to np.float32\n",
    "    value = np.float32(value)\n",
    "    \n",
    "    # Get the binary representation using numpy's view method\n",
    "    binary = np.binary_repr(value.view(np.int32), width=32)\n",
    "    \n",
    "    return binary\n",
    "\n",
    "def binary32_to_float(binary):\n",
    "    # Convert the binary string to a 32-bit integer\n",
    "    int_value = int(binary, 2)\n",
    "    \n",
    "    # Convert the 32-bit integer to np.float32 using numpy's view method\n",
    "    float_value = np.float32(np.array([int_value], dtype=np.int32).view(np.float32)[0])\n",
    "    \n",
    "    return float_value\n",
    "\n",
    "# Example usage\n",
    "original_float = 3.141592653589793\n",
    "binary_representation = float_to_binary32(original_float)\n",
    "converted_float = binary32_to_float(binary_representation)\n",
    "\n",
    "print(f\"Original float: {original_float}\")\n",
    "print(f\"Binary representation: {binary_representation}\")\n",
    "print(f\"Converted float: {converted_float}\")\n"
   ]
  },
  {
   "cell_type": "code",
   "execution_count": null,
   "metadata": {},
   "outputs": [],
   "source": []
  },
  {
   "cell_type": "code",
   "execution_count": null,
   "metadata": {},
   "outputs": [],
   "source": []
  },
  {
   "cell_type": "code",
   "execution_count": null,
   "metadata": {},
   "outputs": [],
   "source": []
  }
 ],
 "metadata": {
  "language_info": {
   "name": "python"
  }
 },
 "nbformat": 4,
 "nbformat_minor": 2
}
